{
 "cells": [
  {
   "cell_type": "code",
   "execution_count": 3,
   "id": "befb5fec",
   "metadata": {},
   "outputs": [
    {
     "name": "stdout",
     "output_type": "stream",
     "text": [
      "This system of linear equations\n",
      "Given Matrix -A=\n",
      "[[2. 1. 1.]\n",
      " [1. 3. 2.]\n",
      " [1. 0. 0.]]\n",
      "Given Matrix B=\n",
      "[4. 5. 8.]\n",
      "where Q is an orthogonal matrix = \n",
      "[[-0.81649658  0.27602622 -0.50709255]\n",
      " [-0.40824829 -0.89708523  0.16903085]\n",
      " [-0.40824829  0.34503278  0.84515425]]\n",
      "R is an upper triangular matrix\n",
      "[[-2.44948974 -2.04124145 -1.63299316]\n",
      " [ 0.         -2.41522946 -1.51814423]\n",
      " [ 0.          0.         -0.16903085]]\n",
      "#Let assume & check if A=QR=B\n",
      "[[ 2.00000000e+00  1.00000000e+00  1.00000000e+00]\n",
      " [ 1.00000000e+00  3.00000000e+00  2.00000000e+00]\n",
      " [ 1.00000000e+00  1.09812324e-16 -2.08416416e-17]]\n",
      "Use the solve function to solve the system of linear equations -Final Result\n",
      "[  8.  21. -33.]\n"
     ]
    }
   ],
   "source": [
    "#QR decomposition \n",
    "#Gyanesh Kuamr Pandey \n",
    "#Program to solve system of linear equation Ax=b using QR decompostion. Input for the program Q and R and b\n",
    "#numpy.linalg.qr linalg.qr(a, mode='reduced')[source] Compute the qr factorization of a matrix.\n",
    "#Factor the matrix a as qr, where q is orthonormal and r is upper-triangular.\n",
    "#It can use for reatgaualr matrix \n",
    "\n",
    "import scipy.linalg as linalg\n",
    "import numpy as np\n",
    "\n",
    "# We can pass A mxn matrix #\n",
    "A = np.array([[2., 1., 1.],[1., 3., 2.],[1., 0., 0]])\n",
    "#A = np.array([[2., 1.],[1., 3.],[1., 0.]])\n",
    "\n",
    "B = np.array([4., 5.,8.])\n",
    "\n",
    "print('This system of linear equations')\n",
    "print('Given Matrix -A=')\n",
    "print(A)\n",
    "\n",
    "print('Given Matrix B=')\n",
    "print(B)\n",
    "\n",
    "\n",
    "\n",
    "Q, R = linalg.qr(A) # QR decomposition with qr function\n",
    "print('where Q is an orthogonal matrix = ')\n",
    "print(Q)\n",
    "print('R is an upper triangular matrix')\n",
    "print(R)\n",
    "\n",
    "#Let assume & check if A=QR=B\n",
    "C=Q.dot(R)\n",
    "print('#Let assume & check if A=QR=B')\n",
    "print(C)\n",
    "\n",
    "\n",
    "y = np.dot(Q.T, B) # Let y=Q'.B using matrix multiplication\n",
    "x = linalg.solve(R, y) # Solve Rx=y\n",
    "\n",
    "print('Use the solve function to solve the system of linear equations -Final Result')\n",
    "print (x)\n",
    "\n"
   ]
  },
  {
   "cell_type": "code",
   "execution_count": null,
   "id": "0b28c005",
   "metadata": {},
   "outputs": [],
   "source": []
  }
 ],
 "metadata": {
  "kernelspec": {
   "display_name": "Python 3 (ipykernel)",
   "language": "python",
   "name": "python3"
  },
  "language_info": {
   "codemirror_mode": {
    "name": "ipython",
    "version": 3
   },
   "file_extension": ".py",
   "mimetype": "text/x-python",
   "name": "python",
   "nbconvert_exporter": "python",
   "pygments_lexer": "ipython3",
   "version": "3.9.13"
  }
 },
 "nbformat": 4,
 "nbformat_minor": 5
}
